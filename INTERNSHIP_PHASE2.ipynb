{
  "nbformat": 4,
  "nbformat_minor": 0,
  "metadata": {
    "colab": {
      "provenance": [],
      "authorship_tag": "ABX9TyNJmOZKTmwVFuZujew0UqH4",
      "include_colab_link": true
    },
    "kernelspec": {
      "name": "python3",
      "display_name": "Python 3"
    },
    "language_info": {
      "name": "python"
    }
  },
  "cells": [
    {
      "cell_type": "markdown",
      "metadata": {
        "id": "view-in-github",
        "colab_type": "text"
      },
      "source": [
        "<a href=\"https://colab.research.google.com/github/rickyrick23/-Data-Science-Project-Series.-/blob/main/INTERNSHIP_PHASE2.ipynb\" target=\"_parent\"><img src=\"https://colab.research.google.com/assets/colab-badge.svg\" alt=\"Open In Colab\"/></a>"
      ]
    },
    {
      "cell_type": "code",
      "execution_count": null,
      "metadata": {
        "id": "61iB1SjksAs5"
      },
      "outputs": [],
      "source": [
        "import pandas as pd\n",
        "import numpy as np\n",
        "import matplotlib.pyplot as plt\n",
        "import seaborn as sns\n",
        "import warnings\n",
        "warnings.filterwarnings('ignore')\n",
        "from sklearn.preprocessing import MinMaxScaler\n"
      ]
    },
    {
      "cell_type": "code",
      "source": [
        "df = pd.read_csv('test.csv', encoding='latin-1')\n",
        "df1 = pd.read_csv('testdata.csv', encoding='latin-1')\n",
        "df2 = pd.read_csv('train.csv', encoding='latin-1')\n",
        "df3 = pd.read_csv('training.csv', encoding='latin-1')"
      ],
      "metadata": {
        "id": "_WnLk37CtoAb"
      },
      "execution_count": null,
      "outputs": []
    },
    {
      "cell_type": "code",
      "source": [
        "print(df.head())\n",
        "print(df.describe())\n",
        "print(df.info())"
      ],
      "metadata": {
        "colab": {
          "base_uri": "https://localhost:8080/"
        },
        "id": "bF2NlYROuxVY",
        "outputId": "509551b8-5276-4926-88fd-a2c7dcbadcd0"
      },
      "execution_count": null,
      "outputs": [
        {
          "output_type": "stream",
          "name": "stdout",
          "text": [
            "       textID                                               text sentiment  \\\n",
            "0  f87dea47db  Last session of the day  http://twitpic.com/67ezh   neutral   \n",
            "1  96d74cb729   Shanghai is also really exciting (precisely -...  positive   \n",
            "2  eee518ae67  Recession hit Veronique Branquinho, she has to...  negative   \n",
            "3  01082688c6                                        happy bday!  positive   \n",
            "4  33987a8ee5             http://twitpic.com/4w75p - I like it!!  positive   \n",
            "\n",
            "  Time of Tweet Age of User      Country  Population -2020  Land Area (Km²)  \\\n",
            "0       morning        0-20  Afghanistan        38928346.0         652860.0   \n",
            "1          noon       21-30      Albania         2877797.0          27400.0   \n",
            "2         night       31-45      Algeria        43851044.0        2381740.0   \n",
            "3       morning       46-60      Andorra           77265.0            470.0   \n",
            "4          noon       60-70       Angola        32866272.0        1246700.0   \n",
            "\n",
            "   Density (P/Km²)  \n",
            "0             60.0  \n",
            "1            105.0  \n",
            "2             18.0  \n",
            "3            164.0  \n",
            "4             26.0  \n",
            "       Population -2020  Land Area (Km²)  Density (P/Km²)\n",
            "count      3.534000e+03     3.534000e+03      3534.000000\n",
            "mean       3.941891e+07     6.722499e+05       348.894171\n",
            "std        1.468757e+08     1.839134e+06      1967.012367\n",
            "min        8.010000e+02     0.000000e+00         2.000000\n",
            "25%        1.968001e+06     2.281000e+04        35.000000\n",
            "50%        8.696453e+06     1.127600e+05        87.000000\n",
            "75%        2.843594e+07     5.279700e+05       214.000000\n",
            "max        1.439324e+09     1.637687e+07     26337.000000\n",
            "<class 'pandas.core.frame.DataFrame'>\n",
            "RangeIndex: 4815 entries, 0 to 4814\n",
            "Data columns (total 9 columns):\n",
            " #   Column            Non-Null Count  Dtype  \n",
            "---  ------            --------------  -----  \n",
            " 0   textID            3534 non-null   object \n",
            " 1   text              3534 non-null   object \n",
            " 2   sentiment         3534 non-null   object \n",
            " 3   Time of Tweet     3534 non-null   object \n",
            " 4   Age of User       3534 non-null   object \n",
            " 5   Country           3534 non-null   object \n",
            " 6   Population -2020  3534 non-null   float64\n",
            " 7   Land Area (Km²)   3534 non-null   float64\n",
            " 8   Density (P/Km²)   3534 non-null   float64\n",
            "dtypes: float64(3), object(6)\n",
            "memory usage: 338.7+ KB\n",
            "None\n"
          ]
        }
      ]
    },
    {
      "cell_type": "code",
      "source": [
        "print(df1.head())\n",
        "print(df1.describe())\n",
        "print(df1.info())"
      ],
      "metadata": {
        "colab": {
          "base_uri": "https://localhost:8080/"
        },
        "id": "Mm3QUhaeu43S",
        "outputId": "5b33fa08-2060-41a2-c27f-9caa43a0f95a"
      },
      "execution_count": null,
      "outputs": [
        {
          "output_type": "stream",
          "name": "stdout",
          "text": [
            "   4  3  Mon May 11 03:17:40 UTC 2009  kindle2        tpryan  \\\n",
            "0  4  4  Mon May 11 03:18:03 UTC 2009  kindle2        vcu451   \n",
            "1  4  5  Mon May 11 03:18:54 UTC 2009  kindle2        chadfu   \n",
            "2  4  6  Mon May 11 03:19:04 UTC 2009  kindle2         SIX15   \n",
            "3  4  7  Mon May 11 03:21:41 UTC 2009  kindle2      yamarama   \n",
            "4  4  8  Mon May 11 03:22:00 UTC 2009  kindle2  GeorgeVHulme   \n",
            "\n",
            "  @stellargirl I loooooooovvvvvveee my Kindle2. Not that the DX is cool, but the 2 is fantastic in its own right.  \n",
            "0  Reading my kindle2...  Love it... Lee childs i...                                                               \n",
            "1  Ok, first assesment of the #kindle2 ...it fuck...                                                               \n",
            "2  @kenburbary You'll love your Kindle2. I've had...                                                               \n",
            "3  @mikefish  Fair enough. But i have the Kindle2...                                                               \n",
            "4  @richardebaker no. it is too big. I'm quite ha...                                                               \n",
            "                4             3\n",
            "count  515.000000    515.000000\n",
            "mean     2.073786   2297.728155\n",
            "std      1.706702   3578.021327\n",
            "min      0.000000      4.000000\n",
            "25%      0.000000    393.500000\n",
            "50%      2.000000   1023.000000\n",
            "75%      4.000000   2380.500000\n",
            "max      4.000000  14087.000000\n",
            "<class 'pandas.core.frame.DataFrame'>\n",
            "RangeIndex: 515 entries, 0 to 514\n",
            "Data columns (total 6 columns):\n",
            " #   Column                                                                                                           Non-Null Count  Dtype \n",
            "---  ------                                                                                                           --------------  ----- \n",
            " 0   4                                                                                                                515 non-null    int64 \n",
            " 1   3                                                                                                                515 non-null    int64 \n",
            " 2   Mon May 11 03:17:40 UTC 2009                                                                                     515 non-null    object\n",
            " 3   kindle2                                                                                                          515 non-null    object\n",
            " 4   tpryan                                                                                                           515 non-null    object\n",
            " 5   @stellargirl I loooooooovvvvvveee my Kindle2. Not that the DX is cool, but the 2 is fantastic in its own right.  515 non-null    object\n",
            "dtypes: int64(2), object(4)\n",
            "memory usage: 24.3+ KB\n",
            "None\n"
          ]
        }
      ]
    },
    {
      "cell_type": "code",
      "source": [
        "print(df2.head())\n",
        "print(df2.describe())\n",
        "print(df2.info())"
      ],
      "metadata": {
        "colab": {
          "base_uri": "https://localhost:8080/"
        },
        "id": "vHt65VRyvBag",
        "outputId": "15123d8f-a77f-4560-d42e-0cfb8846f0a3"
      },
      "execution_count": null,
      "outputs": [
        {
          "output_type": "stream",
          "name": "stdout",
          "text": [
            "       textID                                               text  \\\n",
            "0  cb774db0d1                I`d have responded, if I were going   \n",
            "1  549e992a42      Sooo SAD I will miss you here in San Diego!!!   \n",
            "2  088c60f138                          my boss is bullying me...   \n",
            "3  9642c003ef                     what interview! leave me alone   \n",
            "4  358bd9e861   Sons of ****, why couldn`t they put them on t...   \n",
            "\n",
            "                         selected_text sentiment Time of Tweet Age of User  \\\n",
            "0  I`d have responded, if I were going   neutral       morning        0-20   \n",
            "1                             Sooo SAD  negative          noon       21-30   \n",
            "2                          bullying me  negative         night       31-45   \n",
            "3                       leave me alone  negative       morning       46-60   \n",
            "4                        Sons of ****,  negative          noon       60-70   \n",
            "\n",
            "       Country  Population -2020  Land Area (Km²)  Density (P/Km²)  \n",
            "0  Afghanistan          38928346         652860.0               60  \n",
            "1      Albania           2877797          27400.0              105  \n",
            "2      Algeria          43851044        2381740.0               18  \n",
            "3      Andorra             77265            470.0              164  \n",
            "4       Angola          32866272        1246700.0               26  \n",
            "       Population -2020  Land Area (Km²)  Density (P/Km²)\n",
            "count      2.748100e+04     2.748100e+04     27481.000000\n",
            "mean       4.018497e+07     6.621730e+05       357.686583\n",
            "std        1.504946e+08     1.807425e+06      2013.750702\n",
            "min        8.010000e+02     0.000000e+00         2.000000\n",
            "25%        1.968001e+06     2.281000e+04        35.000000\n",
            "50%        8.655535e+06     1.118900e+05        89.000000\n",
            "75%        2.843594e+07     5.279700e+05       214.000000\n",
            "max        1.439324e+09     1.637687e+07     26337.000000\n",
            "<class 'pandas.core.frame.DataFrame'>\n",
            "RangeIndex: 27481 entries, 0 to 27480\n",
            "Data columns (total 10 columns):\n",
            " #   Column            Non-Null Count  Dtype  \n",
            "---  ------            --------------  -----  \n",
            " 0   textID            27481 non-null  object \n",
            " 1   text              27480 non-null  object \n",
            " 2   selected_text     27480 non-null  object \n",
            " 3   sentiment         27481 non-null  object \n",
            " 4   Time of Tweet     27481 non-null  object \n",
            " 5   Age of User       27481 non-null  object \n",
            " 6   Country           27481 non-null  object \n",
            " 7   Population -2020  27481 non-null  int64  \n",
            " 8   Land Area (Km²)   27481 non-null  float64\n",
            " 9   Density (P/Km²)   27481 non-null  int64  \n",
            "dtypes: float64(1), int64(2), object(7)\n",
            "memory usage: 2.1+ MB\n",
            "None\n"
          ]
        }
      ]
    },
    {
      "cell_type": "code",
      "source": [
        "print(df3.head())\n",
        "print(df3.describe())\n",
        "print(df3.info())"
      ],
      "metadata": {
        "colab": {
          "base_uri": "https://localhost:8080/"
        },
        "id": "YLSL0VfVvFfH",
        "outputId": "92eebfac-9a90-4626-de16-ede62360b653"
      },
      "execution_count": null,
      "outputs": [
        {
          "output_type": "stream",
          "name": "stdout",
          "text": [
            "   polarity of tweet   id of the tweet             date of the tweet  \\\n",
            "0                   0       1467810672  Mon Apr 06 22:19:49 PDT 2009   \n",
            "1                   0       1467810917  Mon Apr 06 22:19:53 PDT 2009   \n",
            "2                   0       1467811184  Mon Apr 06 22:19:57 PDT 2009   \n",
            "3                   0       1467811193  Mon Apr 06 22:19:57 PDT 2009   \n",
            "4                   0       1467811372  Mon Apr 06 22:20:00 PDT 2009   \n",
            "\n",
            "      query           user                                 text of the tweet   \n",
            "0  NO_QUERY  scotthamilton  is upset that he can't update his Facebook by ...  \n",
            "1  NO_QUERY       mattycus  @Kenichan I dived many times for the ball. Man...  \n",
            "2  NO_QUERY        ElleCTF    my whole body feels itchy and like its on fire   \n",
            "3  NO_QUERY         Karoli  @nationwideclass no, it's not behaving at all....  \n",
            "4  NO_QUERY       joy_wolf                      @Kwesidei not the whole crew   \n",
            "       polarity of tweet   id of the tweet\n",
            "count            279803.0     2.798030e+05\n",
            "mean                  0.0     1.832092e+09\n",
            "std                   0.0     1.594281e+08\n",
            "min                   0.0     1.467811e+09\n",
            "25%                   0.0     1.693485e+09\n",
            "50%                   0.0     1.880912e+09\n",
            "75%                   0.0     1.974082e+09\n",
            "max                   0.0     1.991887e+09\n",
            "<class 'pandas.core.frame.DataFrame'>\n",
            "RangeIndex: 279803 entries, 0 to 279802\n",
            "Data columns (total 6 columns):\n",
            " #   Column              Non-Null Count   Dtype \n",
            "---  ------              --------------   ----- \n",
            " 0   polarity of tweet   279803 non-null  int64 \n",
            " 1   id of the tweet     279803 non-null  int64 \n",
            " 2   date of the tweet   279803 non-null  object\n",
            " 3   query               279803 non-null  object\n",
            " 4   user                279803 non-null  object\n",
            " 5   text of the tweet   279802 non-null  object\n",
            "dtypes: int64(2), object(4)\n",
            "memory usage: 12.8+ MB\n",
            "None\n"
          ]
        }
      ]
    },
    {
      "cell_type": "code",
      "source": [
        "print(df.duplicated().sum())\n",
        "df.drop_duplicates(inplace=True)\n"
      ],
      "metadata": {
        "colab": {
          "base_uri": "https://localhost:8080/"
        },
        "id": "LBNSMtF8vKWK",
        "outputId": "0af3f06d-7690-4eb3-9f5e-70052ca813e5"
      },
      "execution_count": null,
      "outputs": [
        {
          "output_type": "stream",
          "name": "stdout",
          "text": [
            "1280\n"
          ]
        }
      ]
    },
    {
      "cell_type": "code",
      "source": [
        "print(df1.duplicated().sum())\n",
        "df1.drop_duplicates(inplace=True)\n"
      ],
      "metadata": {
        "colab": {
          "base_uri": "https://localhost:8080/"
        },
        "id": "ryaGvFiSvTJn",
        "outputId": "1d8530aa-4669-4d78-eca4-4499bd5c585d"
      },
      "execution_count": null,
      "outputs": [
        {
          "output_type": "stream",
          "name": "stdout",
          "text": [
            "0\n"
          ]
        }
      ]
    },
    {
      "cell_type": "code",
      "source": [
        "print(df2.duplicated().sum())\n",
        "df2.drop_duplicates(inplace=True)\n"
      ],
      "metadata": {
        "colab": {
          "base_uri": "https://localhost:8080/"
        },
        "id": "h0zmg7xtvWhL",
        "outputId": "80469fd7-33cd-49b5-9322-9371e7cdbc94"
      },
      "execution_count": null,
      "outputs": [
        {
          "output_type": "stream",
          "name": "stdout",
          "text": [
            "0\n"
          ]
        }
      ]
    },
    {
      "cell_type": "code",
      "source": [
        "print(df3.duplicated().sum())\n",
        "df3.drop_duplicates(inplace=True)\n"
      ],
      "metadata": {
        "colab": {
          "base_uri": "https://localhost:8080/"
        },
        "id": "_QiFq0c0vZbx",
        "outputId": "580c8292-361f-4f9c-9e3b-f325770aa57b"
      },
      "execution_count": null,
      "outputs": [
        {
          "output_type": "stream",
          "name": "stdout",
          "text": [
            "0\n"
          ]
        }
      ]
    },
    {
      "cell_type": "code",
      "source": [
        "print(df.isnull().sum())\n",
        "df.dropna(inplace=True)\n"
      ],
      "metadata": {
        "colab": {
          "base_uri": "https://localhost:8080/"
        },
        "id": "9WpBxz2dvcDV",
        "outputId": "adaae626-cdd8-4c0a-c00b-9ac419a06ac6"
      },
      "execution_count": null,
      "outputs": [
        {
          "output_type": "stream",
          "name": "stdout",
          "text": [
            "textID              1\n",
            "text                1\n",
            "sentiment           1\n",
            "Time of Tweet       1\n",
            "Age of User         1\n",
            "Country             1\n",
            "Population -2020    1\n",
            "Land Area (Km²)     1\n",
            "Density (P/Km²)     1\n",
            "dtype: int64\n"
          ]
        }
      ]
    },
    {
      "cell_type": "code",
      "source": [
        "print(df1.isnull().sum())\n",
        "df1.dropna(inplace=True)\n"
      ],
      "metadata": {
        "colab": {
          "base_uri": "https://localhost:8080/"
        },
        "id": "mPK1oUi_vlhl",
        "outputId": "af07ec54-76d6-49cb-ba28-51ddaf5b2760"
      },
      "execution_count": null,
      "outputs": [
        {
          "output_type": "stream",
          "name": "stdout",
          "text": [
            "4                                                                                                                  0\n",
            "3                                                                                                                  0\n",
            "Mon May 11 03:17:40 UTC 2009                                                                                       0\n",
            "kindle2                                                                                                            0\n",
            "tpryan                                                                                                             0\n",
            "@stellargirl I loooooooovvvvvveee my Kindle2. Not that the DX is cool, but the 2 is fantastic in its own right.    0\n",
            "dtype: int64\n"
          ]
        }
      ]
    },
    {
      "cell_type": "code",
      "source": [
        "print(df2.isnull().sum())\n",
        "df2.dropna(inplace=True)\n"
      ],
      "metadata": {
        "colab": {
          "base_uri": "https://localhost:8080/"
        },
        "id": "UpTN7sSnvnaq",
        "outputId": "95a84d73-acc2-49ec-f398-28720446f5a6"
      },
      "execution_count": null,
      "outputs": [
        {
          "output_type": "stream",
          "name": "stdout",
          "text": [
            "textID              0\n",
            "text                1\n",
            "selected_text       1\n",
            "sentiment           0\n",
            "Time of Tweet       0\n",
            "Age of User         0\n",
            "Country             0\n",
            "Population -2020    0\n",
            "Land Area (Km²)     0\n",
            "Density (P/Km²)     0\n",
            "dtype: int64\n"
          ]
        }
      ]
    },
    {
      "cell_type": "code",
      "source": [
        "print(df3.isnull().sum())\n",
        "df3.dropna(inplace=True)\n"
      ],
      "metadata": {
        "colab": {
          "base_uri": "https://localhost:8080/"
        },
        "id": "xMTemKD3vrIe",
        "outputId": "7b45b347-42fe-45ed-ba3f-c9d9b1f5ec0d"
      },
      "execution_count": null,
      "outputs": [
        {
          "output_type": "stream",
          "name": "stdout",
          "text": [
            "polarity of tweet     0\n",
            "id of the tweet       0\n",
            "date of the tweet     0\n",
            "query                 0\n",
            "user                  0\n",
            "text of the tweet     1\n",
            "dtype: int64\n"
          ]
        }
      ]
    },
    {
      "cell_type": "code",
      "source": [
        "sns.histplot(df['Population -2020'], bins=20)\n",
        "sns.boxplot(x='Land Area (Km²)', data=df)\n"
      ],
      "metadata": {
        "colab": {
          "base_uri": "https://localhost:8080/",
          "height": 466
        },
        "id": "cEg6HndDvuVa",
        "outputId": "055c3f9f-7ce4-49f1-a565-a069647031fc"
      },
      "execution_count": null,
      "outputs": [
        {
          "output_type": "execute_result",
          "data": {
            "text/plain": [
              "<Axes: xlabel='Population -2020', ylabel='Count'>"
            ]
          },
          "metadata": {},
          "execution_count": 24
        },
        {
          "output_type": "display_data",
          "data": {
            "text/plain": [
              "<Figure size 640x480 with 1 Axes>"
            ],
            "image/png": "[encoded data removed]"
          },
          "metadata": {}
        }
      ]
    },
    {
      "cell_type": "code",
      "source": [
        "sns.histplot(df['Land Area (Km²)'], bins=20)\n",
        "sns.boxplot(x='Density (P/Km²)', data=df)\n"
      ],
      "metadata": {
        "colab": {
          "base_uri": "https://localhost:8080/",
          "height": 466
        },
        "id": "zJqavJyzwRij",
        "outputId": "c8b55396-1566-4374-eedf-0623090c3069"
      },
      "execution_count": null,
      "outputs": [
        {
          "output_type": "execute_result",
          "data": {
            "text/plain": [
              "<Axes: xlabel='Land Area (Km²)', ylabel='Count'>"
            ]
          },
          "metadata": {},
          "execution_count": 25
        },
        {
          "output_type": "display_data",
          "data": {
            "text/plain": [
              "<Figure size 640x480 with 1 Axes>"
            ],
            "image/png": "[encoded data removed]"
          },
          "metadata": {}
        }
      ]
    },
    {
      "cell_type": "code",
      "source": [
        "sns.scatterplot(x='Land Area (Km²)', y='Density (P/Km²)', data=df)\n",
        "sns.pairplot(df[['Land Area (Km²)', 'Density (P/Km²)', 'Population -2020']])\n"
      ],
      "metadata": {
        "colab": {
          "base_uri": "https://localhost:8080/",
          "height": 1000
        },
        "id": "Uy9n-cYKwhTf",
        "outputId": "1655144a-6746-415f-97dd-0a65b7137b0f"
      },
      "execution_count": null,
      "outputs": [
        {
          "output_type": "execute_result",
          "data": {
            "text/plain": [
              "<seaborn.axisgrid.PairGrid at 0x79d05e4e28c0>"
            ]
          },
          "metadata": {},
          "execution_count": 26
        },
        {
          "output_type": "display_data",
          "data": {
            "text/plain": [
              "<Figure size 640x480 with 1 Axes>"
            ],
            "image/png": "[encoded data removed]"
          },
          "metadata": {}
        },
        {
          "output_type": "display_data",
          "data": {
            "text/plain": [
              "<Figure size 750x750 with 12 Axes>"
            ],
            "image/png": "[encoded data removed]"
          },
          "metadata": {}
        }
      ]
    },
    {
      "cell_type": "code",
      "source": [
        "scaler = MinMaxScaler()\n",
        "df[['Population -2020', 'Density (P/Km²)']] = scaler.fit_transform(df[['Population -2020', 'Density (P/Km²)']])\n"
      ],
      "metadata": {
        "id": "hzHc-8nIx0je"
      },
      "execution_count": null,
      "outputs": []
    },
    {
      "cell_type": "code",
      "source": [
        "numeric_df = df.select_dtypes(include=['number'])\n",
        "sns.heatmap(numeric_df.corr(), annot=True, cmap='coolwarm')"
      ],
      "metadata": {
        "colab": {
          "base_uri": "https://localhost:8080/",
          "height": 452
        },
        "id": "ox2uEdnyxtI4",
        "outputId": "5f68505d-4fbc-4203-93ae-8925d7f73a5f"
      },
      "execution_count": null,
      "outputs": [
        {
          "output_type": "execute_result",
          "data": {
            "text/plain": [
              "<Axes: >"
            ]
          },
          "metadata": {},
          "execution_count": 29
        },
        {
          "output_type": "display_data",
          "data": {
            "text/plain": [
              "<Figure size 640x480 with 2 Axes>"
            ],
            "image/png": "[encoded data removed]"
          },
          "metadata": {}
        }
      ]
    },
    {
      "cell_type": "code",
      "source": [
        "df = pd.get_dummies(df, columns=['sentiment'], drop_first=True)\n"
      ],
      "metadata": {
        "id": "vaJ--Af9zjMl"
      },
      "execution_count": null,
      "outputs": []
    },
    {
      "cell_type": "code",
      "source": [
        "from sklearn.model_selection import train_test_split\n",
        "X = df.drop('textID', axis=1)\n",
        "y = df['Country']\n",
        "X_train, X_test, y_train, y_test = train_test_split(X, y, test_size=0.2, random_state=42)\n"
      ],
      "metadata": {
        "id": "rnRRC3t1z4Rm"
      },
      "execution_count": null,
      "outputs": []
    },
    {
      "cell_type": "code",
      "source": [
        "def computeTF(word, doc):\n",
        "    return doc.count(word) / len(doc)\n",
        "\n",
        "def computeIDF(corpus, word):\n",
        "    num_docs_with_word = sum(1 for doc in corpus if word in doc)\n",
        "    return np.log(len(corpus) / (1 + num_docs_with_word))\n",
        "\n",
        "def computeTFIDF(doc, corpus):\n",
        "    tfidf_scores = {}\n",
        "    for word in doc:\n",
        "        tf = computeTF(word, doc)\n",
        "        idf = computeIDF(corpus, word)\n",
        "        tfidf_scores[word] = tf * idf\n",
        "    return tfidf_scores\n",
        "\n",
        "\n",
        "corpus = [\"Recession hit Veronique Branquinho, she has to quit her company, such a shame!\"]\n",
        "doc1 = corpus[0].split()\n",
        "doc2 = corpus[1].split()\n",
        "\n",
        "tfidf_doc1 = computeTFIDF(doc1, corpus)\n",
        "tfidf_doc2 = computeTFIDF(doc2, corpus)\n",
        "\n",
        "print(\"TF-IDF for Document 1:\", tfidf_doc1)\n",
        "print(\"TF-IDF for Document 2:\", tfidf_doc2)\n"
      ],
      "metadata": {
        "colab": {
          "base_uri": "https://localhost:8080/",
          "height": 211
        },
        "id": "ZIZ1GUox0Ni9",
        "outputId": "ee336ea2-a9bb-45d6-8616-79f84ae9a507"
      },
      "execution_count": null,
      "outputs": [
        {
          "output_type": "error",
          "ename": "IndexError",
          "evalue": "list index out of range",
          "traceback": [
            "\u001b[0;31m---------------------------------------------------------------------------\u001b[0m",
            "\u001b[0;31mIndexError\u001b[0m                                Traceback (most recent call last)",
            "\u001b[0;32m<ipython-input-41-f6d65251188a>\u001b[0m in \u001b[0;36m<cell line: 19>\u001b[0;34m()\u001b[0m\n\u001b[1;32m     17\u001b[0m \u001b[0mcorpus\u001b[0m \u001b[0;34m=\u001b[0m \u001b[0;34m[\u001b[0m\u001b[0;34m\"Recession hit Veronique Branquinho, she has to quit her company, such a shame!\"\u001b[0m\u001b[0;34m]\u001b[0m\u001b[0;34m\u001b[0m\u001b[0;34m\u001b[0m\u001b[0m\n\u001b[1;32m     18\u001b[0m \u001b[0mdoc1\u001b[0m \u001b[0;34m=\u001b[0m \u001b[0mcorpus\u001b[0m\u001b[0;34m[\u001b[0m\u001b[0;36m0\u001b[0m\u001b[0;34m]\u001b[0m\u001b[0;34m.\u001b[0m\u001b[0msplit\u001b[0m\u001b[0;34m(\u001b[0m\u001b[0;34m)\u001b[0m\u001b[0;34m\u001b[0m\u001b[0;34m\u001b[0m\u001b[0m\n\u001b[0;32m---> 19\u001b[0;31m \u001b[0mdoc2\u001b[0m \u001b[0;34m=\u001b[0m \u001b[0mcorpus\u001b[0m\u001b[0;34m[\u001b[0m\u001b[0;36m1\u001b[0m\u001b[0;34m]\u001b[0m\u001b[0;34m.\u001b[0m\u001b[0msplit\u001b[0m\u001b[0;34m(\u001b[0m\u001b[0;34m)\u001b[0m\u001b[0;34m\u001b[0m\u001b[0;34m\u001b[0m\u001b[0m\n\u001b[0m\u001b[1;32m     20\u001b[0m \u001b[0;34m\u001b[0m\u001b[0m\n\u001b[1;32m     21\u001b[0m \u001b[0mtfidf_doc1\u001b[0m \u001b[0;34m=\u001b[0m \u001b[0mcomputeTFIDF\u001b[0m\u001b[0;34m(\u001b[0m\u001b[0mdoc1\u001b[0m\u001b[0;34m,\u001b[0m \u001b[0mcorpus\u001b[0m\u001b[0;34m)\u001b[0m\u001b[0;34m\u001b[0m\u001b[0;34m\u001b[0m\u001b[0m\n",
            "\u001b[0;31mIndexError\u001b[0m: list index out of range"
          ]
        }
      ]
    },
    {
      "source": [
        "def computeTF(word, doc):\n",
        "    return doc.count(word) / len(doc)\n",
        "\n",
        "def computeIDF(corpus, word):\n",
        "    num_docs_with_word = sum(1 for doc in corpus if word in doc)\n",
        "    return np.log(len(corpus) / (1 + num_docs_with_word))\n",
        "\n",
        "def computeTFIDF(doc, corpus):\n",
        "    tfidf_scores = {}\n",
        "    for word in doc:\n",
        "        tf = computeTF(word, doc)\n",
        "        idf = computeIDF(corpus, word)\n",
        "        tfidf_scores[word] = tf * idf\n",
        "    return tfidf_scores\n",
        "\n",
        "\n",
        "# Updated corpus with two documents\n",
        "corpus = [\"Recession hit Veronique Branquinho, she has to quit her company, such a shame!\",\n",
        "          \"The truck is blue.\"]\n",
        "doc1 = corpus[0].split()\n",
        "doc2 = corpus[1].split() # Now accesses the second document correctly\n",
        "\n",
        "tfidf_doc1 = computeTFIDF(doc1, corpus)\n",
        "tfidf_doc2 = computeTFIDF(doc2, corpus)\n",
        "\n",
        "print(\"TF-IDF for Document 1:\", tfidf_doc1)\n",
        "print(\"TF-IDF for Document 2:\", tfidf_doc2)"
      ],
      "cell_type": "code",
      "metadata": {
        "id": "34d2ddSv2opP"
      },
      "execution_count": null,
      "outputs": []
    },
    {
      "cell_type": "code",
      "source": [
        "def computeTF(word, doc):\n",
        "    return doc.count(word) / len(doc)\n",
        "\n",
        "def computeIDF(corpus, word):\n",
        "    num_docs_with_word = sum(1 for doc in corpus if word in doc)\n",
        "    return np.log(len(corpus) / (1 + num_docs_with_word))\n",
        "\n",
        "def computeTFIDF(doc, corpus):\n",
        "    tfidf_scores = {}\n",
        "    for word in doc:\n",
        "        tf = computeTF(word, doc)\n",
        "        idf = computeIDF(corpus, word)\n",
        "        tfidf_scores[word] = tf * idf\n",
        "    return tfidf_scores\n",
        "\n",
        "# Example usage:\n",
        "corpus = [\"Recession hit Veronique Branquinho, she has to quit her company, such a shame!\", \"Its coming out the socket  I feel like my phones hole is not a virgin. That`s how loose it is... :`(\"]\n",
        "doc1 = corpus[0].split()\n",
        "doc2 = corpus[1].split()\n",
        "\n",
        "tfidf_doc1 = computeTFIDF(doc1, corpus)\n",
        "tfidf_doc2 = computeTFIDF(doc2, corpus)\n",
        "\n",
        "print(\"TF-IDF for Document 1:\", tfidf_doc1)\n",
        "print(\"TF-IDF for Document 2:\", tfidf_doc2)\n"
      ],
      "metadata": {
        "colab": {
          "base_uri": "https://localhost:8080/"
        },
        "id": "Afv-_Iol2dgP",
        "outputId": "a3cd481d-6fff-407b-e4a5-b130e90b65d1"
      },
      "execution_count": null,
      "outputs": [
        {
          "output_type": "stream",
          "name": "stdout",
          "text": [
            "TF-IDF for Document 1: {'Recession': 0.0, 'hit': 0.0, 'Veronique': 0.0, 'Branquinho,': 0.0, 'she': 0.0, 'has': 0.0, 'to': 0.0, 'quit': 0.0, 'her': 0.0, 'company,': 0.0, 'such': 0.0, 'a': -0.031189623700628034, 'shame!': 0.0}\n",
            "TF-IDF for Document 2: {'Its': 0.0, 'coming': 0.0, 'out': 0.0, 'the': 0.0, 'socket': 0.0, 'I': 0.0, 'feel': 0.0, 'like': 0.0, 'my': 0.0, 'phones': 0.0, 'hole': 0.0, 'is': 0.0, 'not': 0.0, 'a': -0.019307862290864973, 'virgin.': 0.0, 'That`s': 0.0, 'how': 0.0, 'loose': 0.0, 'it': -0.019307862290864973, 'is...': 0.0, ':`(': 0.0}\n"
          ]
        }
      ]
    },
    {
      "cell_type": "code",
      "source": [
        "import gensim.downloader as api\n",
        "\n",
        "\n",
        "word2vec_model = api.load(\"word2vec-google-news-300\")\n",
        "\n",
        "\n",
        "word1 = \"Veronique\"\n",
        "word2 = \"socket\"\n",
        "\n",
        "# Get word embeddings\n",
        "embedding1 = word2vec_model[word1]\n",
        "embedding2 = word2vec_model[word2]\n",
        "\n",
        "print(f\"Embedding for '{word1}':\", embedding1)\n",
        "print(f\"Embedding for '{word2}':\", embedding2)\n"
      ],
      "metadata": {
        "colab": {
          "base_uri": "https://localhost:8080/"
        },
        "id": "A-AqXg1V23YM",
        "outputId": "5b0d79d0-13e0-4dff-de7a-a944c33522cb"
      },
      "execution_count": null,
      "outputs": [
        {
          "output_type": "stream",
          "name": "stdout",
          "text": [
            "[==================================================] 100.0% 1662.8/1662.8MB downloaded\n",
            "Embedding for 'Veronique': [-0.08789062 -0.07128906  0.14355469 -0.15039062  0.23925781  0.23046875\n",
            "  0.23730469 -0.3515625  -0.02441406 -0.16113281 -0.07666016 -0.01586914\n",
            "  0.14355469 -0.10742188 -0.11083984  0.10351562  0.39648438  0.08154297\n",
            " -0.05126953  0.27929688  0.12988281 -0.02636719  0.11767578 -0.09667969\n",
            "  0.14648438 -0.13671875  0.14355469 -0.06835938  0.09619141  0.08203125\n",
            "  0.16503906 -0.01428223 -0.00619507 -0.04077148 -0.10986328 -0.16308594\n",
            " -0.08691406  0.33203125 -0.265625   -0.50390625 -0.14550781  0.11035156\n",
            " -0.3828125  -0.00765991  0.22558594  0.05810547 -0.11083984 -0.02514648\n",
            "  0.40039062  0.28515625 -0.07910156  0.0625      0.00076675 -0.06494141\n",
            " -0.49609375  0.10546875 -0.20019531 -0.17675781 -0.07275391 -0.11816406\n",
            "  0.02441406  0.11376953  0.13476562  0.05786133 -0.14746094 -0.1015625\n",
            " -0.11523438 -0.390625   -0.00579834 -0.03417969  0.21582031  0.10644531\n",
            "  0.04931641 -0.09619141 -0.265625    0.390625   -0.02099609  0.05688477\n",
            "  0.07714844  0.06225586  0.16601562 -0.24804688  0.11669922  0.06689453\n",
            "  0.00515747  0.14257812  0.01574707  0.27929688  0.00668335 -0.12695312\n",
            " -0.33007812 -0.10009766 -0.21875    -0.01171875 -0.4296875  -0.31640625\n",
            "  0.11621094 -0.08447266 -0.24609375  0.04174805 -0.31054688 -0.11279297\n",
            " -0.38671875 -0.09912109  0.12402344 -0.24902344 -0.18261719 -0.3359375\n",
            " -0.17382812  0.33007812 -0.01806641 -0.04907227  0.1640625   0.01696777\n",
            "  0.05786133 -0.15429688 -0.25195312 -0.03417969  0.02819824 -0.10253906\n",
            " -0.125       0.34179688  0.12353516  0.00915527  0.25       -0.00430298\n",
            " -0.5         0.17578125  0.19921875  0.16113281  0.0144043   0.11962891\n",
            " -0.27148438 -0.04345703  0.03637695  0.15917969  0.11376953  0.16015625\n",
            "  0.19921875 -0.02526855  0.13671875 -0.0703125  -0.00273132  0.05078125\n",
            " -0.17285156  0.39257812  0.11572266  0.12207031 -0.08154297 -0.328125\n",
            " -0.01574707  0.00204468 -0.11669922  0.34765625  0.2421875  -0.13183594\n",
            "  0.03393555  0.26367188 -0.06689453 -0.08837891 -0.12792969  0.13574219\n",
            "  0.03088379  0.02392578  0.22558594 -0.03417969 -0.26757812 -0.07519531\n",
            " -0.13867188  0.13769531 -0.06689453 -0.17675781 -0.0378418  -0.265625\n",
            " -0.07226562 -0.04321289  0.15429688 -0.14941406 -0.02746582 -0.01635742\n",
            " -0.17089844 -0.01245117 -0.17675781 -0.19726562  0.07617188  0.18359375\n",
            " -0.20214844 -0.06591797 -0.00515747 -0.11376953  0.125      -0.07470703\n",
            " -0.12255859  0.36328125 -0.12109375  0.34179688  0.28320312  0.02246094\n",
            "  0.01141357 -0.0625      0.19335938  0.10595703 -0.01226807 -0.359375\n",
            " -0.09375     0.20898438 -0.15136719  0.3828125  -0.21875     0.13769531\n",
            "  0.11328125 -0.26953125 -0.13867188  0.48632812 -0.16308594  0.05493164\n",
            " -0.08886719 -0.20898438 -0.03857422 -0.09130859  0.01385498  0.21777344\n",
            "  0.24121094  0.19726562 -0.06103516  0.01055908  0.484375   -0.05834961\n",
            "  0.24804688  0.34375    -0.07568359 -0.20507812  0.07128906  0.15039062\n",
            "  0.09960938 -0.10986328 -0.04760742 -0.04614258 -0.33007812  0.109375\n",
            "  0.046875   -0.13867188  0.02941895  0.03295898  0.22949219  0.35546875\n",
            " -0.40625     0.10693359 -0.26171875 -0.23925781 -0.2578125  -0.0324707\n",
            " -0.03369141  0.12304688  0.19238281  0.04711914 -0.16308594 -0.17871094\n",
            " -0.04711914  0.1015625  -0.14648438  0.09912109 -0.17480469  0.01501465\n",
            "  0.24511719  0.28710938  0.26953125 -0.02258301  0.02038574  0.08886719\n",
            "  0.02832031 -0.06591797 -0.484375    0.07275391  0.06396484  0.22070312\n",
            "  0.04443359  0.35546875 -0.07910156  0.21679688 -0.00665283 -0.15332031\n",
            "  0.15722656 -0.08447266  0.06738281  0.26171875 -0.04541016 -0.04541016\n",
            " -0.06152344  0.23535156 -0.19238281  0.12988281  0.13085938 -0.07519531\n",
            " -0.20507812 -0.19921875  0.21679688 -0.10546875  0.18652344 -0.04736328]\n",
            "Embedding for 'socket': [-3.71093750e-02 -1.42578125e-01 -6.13403320e-03 -1.09375000e-01\n",
            " -1.94335938e-01  1.63085938e-01  1.97265625e-01 -2.61718750e-01\n",
            "  3.08593750e-01  2.08984375e-01 -3.10546875e-01  2.44140625e-01\n",
            " -2.11914062e-01  1.28906250e-01  1.67968750e-01  1.87500000e-01\n",
            " -1.22070312e-01  1.16699219e-01 -2.02148438e-01  2.00195312e-02\n",
            "  2.44140625e-01  9.91210938e-02 -8.60595703e-03  2.63671875e-01\n",
            " -9.47265625e-02 -5.02929688e-02 -8.00781250e-02  5.85937500e-01\n",
            "  9.27734375e-02 -1.21093750e-01  3.35693359e-03  7.42187500e-02\n",
            "  1.16577148e-02  1.74560547e-02 -1.56250000e-01 -1.67968750e-01\n",
            "  9.52148438e-03  1.09252930e-02 -1.48437500e-01  4.95605469e-02\n",
            " -1.12304688e-01  1.63085938e-01  2.73437500e-01 -6.73828125e-02\n",
            "  2.43164062e-01 -1.34765625e-01  1.01562500e-01 -1.09863281e-01\n",
            "  4.27734375e-01 -6.31713867e-03 -2.16796875e-01 -6.29882812e-02\n",
            " -2.43164062e-01 -8.49609375e-02  2.40234375e-01 -1.17187500e-01\n",
            "  5.22460938e-02  1.50390625e-01 -9.71679688e-02  1.78710938e-01\n",
            " -1.00097656e-01  3.14453125e-01 -1.45263672e-02  3.90625000e-02\n",
            " -2.22778320e-03 -2.15820312e-01  6.03027344e-02  2.05078125e-01\n",
            " -1.91406250e-01  2.42187500e-01  1.27929688e-01 -8.05664062e-02\n",
            "  2.73437500e-01 -5.70312500e-01 -2.15820312e-01 -1.96289062e-01\n",
            "  1.84570312e-01 -3.24218750e-01  2.77343750e-01 -3.78906250e-01\n",
            "  4.39453125e-01  1.87500000e-01 -1.45507812e-01  3.12500000e-01\n",
            " -3.44238281e-02  8.49609375e-02  2.57812500e-01 -5.32226562e-02\n",
            "  1.62109375e-01  6.15234375e-02 -9.91210938e-02 -8.98437500e-02\n",
            " -1.26953125e-01  1.39648438e-01 -1.60156250e-01  4.66308594e-02\n",
            " -5.85937500e-03 -4.41894531e-02  1.99218750e-01 -1.98242188e-01\n",
            " -3.20312500e-01 -2.83203125e-01 -7.47070312e-02  2.61230469e-02\n",
            " -1.34765625e-01  1.08398438e-01 -6.77490234e-03  1.89453125e-01\n",
            "  1.11328125e-01 -3.49609375e-01 -5.73730469e-02 -1.60156250e-01\n",
            "  1.70898438e-01 -5.34667969e-02  5.61523438e-02  1.94335938e-01\n",
            " -1.46484375e-01  1.13281250e-01  1.42822266e-02 -3.53515625e-01\n",
            " -3.12500000e-02 -1.77734375e-01  3.19824219e-02  2.09960938e-01\n",
            "  6.83593750e-02 -2.03125000e-01 -3.61328125e-01  4.43359375e-01\n",
            "  3.95507812e-02  6.59179688e-02  2.59765625e-01 -5.12695312e-02\n",
            " -4.14062500e-01  2.30468750e-01  2.65625000e-01  3.20312500e-01\n",
            " -3.10058594e-02 -1.42578125e-01 -2.47070312e-01 -1.42578125e-01\n",
            "  1.73339844e-02  2.00195312e-01 -1.24023438e-01  3.08593750e-01\n",
            " -2.51953125e-01  1.93359375e-01 -3.65234375e-01  7.47070312e-02\n",
            " -3.06640625e-01 -1.02050781e-01  2.26562500e-01 -2.09960938e-01\n",
            " -2.33398438e-01 -1.06201172e-02  1.87500000e-01 -1.53320312e-01\n",
            " -5.70312500e-01  9.32617188e-02 -1.58691406e-02 -1.16210938e-01\n",
            "  1.00097656e-01  3.96484375e-01  6.44531250e-02  8.91113281e-03\n",
            " -7.03125000e-02 -1.06445312e-01  5.51757812e-02 -1.34765625e-01\n",
            " -1.58203125e-01 -2.85156250e-01 -4.27734375e-01  3.24707031e-02\n",
            " -2.45117188e-01  9.61914062e-02 -3.94531250e-01 -2.19726562e-01\n",
            "  5.11718750e-01 -2.63671875e-01 -9.17968750e-02  2.83203125e-01\n",
            " -1.87500000e-01  1.89453125e-01 -1.43554688e-01  1.31835938e-01\n",
            "  2.33398438e-01  1.00585938e-01  1.14746094e-01  5.29785156e-02\n",
            "  1.04492188e-01  2.47070312e-01 -1.00585938e-01 -1.46484375e-02\n",
            " -1.51367188e-01  1.63085938e-01  6.44531250e-02  1.61132812e-01\n",
            "  7.61718750e-02 -5.73730469e-03 -8.74023438e-02 -2.83203125e-01\n",
            " -9.32617188e-02  1.46484375e-01 -2.83203125e-02  3.22265625e-01\n",
            "  1.86523438e-01 -3.00781250e-01  8.88671875e-02 -2.55859375e-01\n",
            "  4.12109375e-01  5.06591797e-03 -7.95898438e-02  1.36718750e-01\n",
            " -4.04296875e-01  1.35742188e-01  8.74023438e-02  7.81250000e-02\n",
            " -2.09960938e-01  2.75390625e-01 -1.92382812e-01  1.45507812e-01\n",
            "  4.66308594e-02 -5.32226562e-02 -3.97949219e-02  2.85156250e-01\n",
            " -5.15625000e-01  9.13085938e-02 -1.72851562e-01  5.76171875e-02\n",
            "  4.55078125e-01 -2.27539062e-01 -3.33984375e-01  6.29882812e-02\n",
            "  7.17773438e-02 -2.24609375e-01 -1.61132812e-01 -1.54418945e-02\n",
            " -1.33789062e-01  2.20703125e-01 -7.51953125e-02  1.65039062e-01\n",
            "  1.29882812e-01  1.58203125e-01 -8.83789062e-02 -4.66796875e-01\n",
            "  2.45117188e-01  2.05039978e-04 -1.90429688e-01  2.24609375e-01\n",
            "  3.16406250e-01  3.01513672e-02  8.25195312e-02  1.39648438e-01\n",
            "  3.98437500e-01 -1.48437500e-01  1.82617188e-01 -7.66601562e-02\n",
            "  2.14843750e-02  1.04003906e-01 -1.32812500e-01 -9.22851562e-02\n",
            "  1.57226562e-01  1.88476562e-01 -9.08203125e-02 -1.95312500e-02\n",
            " -7.32421875e-02  3.31115723e-03  3.58886719e-02 -4.37500000e-01\n",
            " -1.33789062e-01  1.08886719e-01 -1.99218750e-01 -9.37500000e-02\n",
            "  1.77734375e-01  3.80859375e-02  1.12792969e-01 -2.67578125e-01\n",
            "  1.46484375e-01 -2.45117188e-01 -1.37695312e-01  3.39843750e-01\n",
            "  1.02050781e-01  4.10156250e-01  2.39562988e-03 -9.03320312e-03\n",
            "  1.46484375e-01 -2.05078125e-01  1.73828125e-01 -1.26953125e-01\n",
            " -1.16210938e-01  6.52313232e-04  3.47656250e-01  2.41210938e-01\n",
            " -8.25195312e-02  2.23632812e-01 -1.83593750e-01 -2.14843750e-01\n",
            " -2.57812500e-01  4.34570312e-02 -1.20605469e-01 -9.81445312e-02]\n"
          ]
        }
      ]
    },
    {
      "cell_type": "code",
      "source": [
        "import tensorflow as tf\n",
        "from tensorflow.keras.preprocessing.text import Tokenizer\n",
        "from tensorflow.keras.preprocessing.sequence import pad_sequences\n",
        "from tensorflow.keras.layers import Embedding, LSTM, Dense\n",
        "from tensorflow.keras.models import Sequential\n",
        "import numpy as np # Import numpy for array conversion\n",
        "\n",
        "\n",
        "text_data = [\"My dead grandpa pays more attention to me than you do\", \" You seem nice, you`re generous and you know your stuff\"]\n",
        "labels = [1, 0]\n",
        "\n",
        "\n",
        "tokenizer = Tokenizer()\n",
        "tokenizer.fit_on_texts(text_data)\n",
        "sequences = tokenizer.texts_to_sequences(text_data)\n",
        "padded_sequences = pad_sequences(sequences, maxlen=10, padding=\"post\")\n",
        "\n",
        "\n",
        "model = Sequential()\n",
        "model.add(Embedding(input_dim=len(tokenizer.word_index) + 1, output_dim=16, input_length=10))\n",
        "model.add(LSTM(32))\n",
        "model.add(Dense(1, activation=\"sigmoid\"))\n",
        "\n",
        "model.compile(optimizer=\"adam\", loss=\"binary_crossentropy\", metrics=[\"accuracy\"])\n",
        "\n",
        "\n",
        "labels = np.array(labels)\n",
        "\n",
        "model.fit(padded_sequences, labels, epochs=5, batch_size=1)\n",
        "\n",
        "\n",
        "_, accuracy = model.evaluate(padded_sequences, labels)\n",
        "print(\"Accuracy (LSTM):\", accuracy)"
      ],
      "metadata": {
        "colab": {
          "base_uri": "https://localhost:8080/"
        },
        "id": "UtdSc1hA28_e",
        "outputId": "cf8d4b68-f486-4c45-8180-c2d75a77f10f"
      },
      "execution_count": null,
      "outputs": [
        {
          "output_type": "stream",
          "name": "stdout",
          "text": [
            "Epoch 1/5\n",
            "2/2 [==============================] - 4s 14ms/step - loss: 0.6944 - accuracy: 0.5000\n",
            "Epoch 2/5\n",
            "2/2 [==============================] - 0s 12ms/step - loss: 0.6915 - accuracy: 0.5000\n",
            "Epoch 3/5\n",
            "2/2 [==============================] - 0s 12ms/step - loss: 0.6894 - accuracy: 1.0000\n",
            "Epoch 4/5\n",
            "2/2 [==============================] - 0s 10ms/step - loss: 0.6874 - accuracy: 1.0000\n",
            "Epoch 5/5\n",
            "2/2 [==============================] - 0s 10ms/step - loss: 0.6853 - accuracy: 1.0000\n",
            "1/1 [==============================] - 1s 835ms/step - loss: 0.6833 - accuracy: 1.0000\n",
            "Accuracy (LSTM): 1.0\n"
          ]
        }
      ]
    },
    {
      "cell_type": "code",
      "source": [
        "from sklearn.feature_extraction.text import TfidfVectorizer\n",
        "\n",
        "\n",
        "print(X_train.columns)\n",
        "\n",
        "\n",
        "vectorizer = TfidfVectorizer()\n",
        "X_train_vectorized = vectorizer.fit_transform(X_train['text']) # Replace 'text' with the actual column name\n",
        "\n",
        "\n",
        "svm_classifier.fit(X_train_vectorized, y_train)\n",
        "\n",
        "\n",
        "X_test_vectorized = vectorizer.transform(X_test['text']) # Replace 'text' with the actual column name\n",
        "y_pred_svm = svm_classifier.predict(X_test_vectorized)\n",
        "\n"
      ],
      "metadata": {
        "colab": {
          "base_uri": "https://localhost:8080/"
        },
        "id": "YekVcXfR4h3h",
        "outputId": "8af8f46f-1764-4eb6-d1f3-7b0a770f9464"
      },
      "execution_count": null,
      "outputs": [
        {
          "output_type": "stream",
          "name": "stdout",
          "text": [
            "Index(['text', 'Time of Tweet', 'Age of User', 'Country', 'Population -2020',\n",
            "       'Land Area (Km²)', 'Density (P/Km²)', 'sentiment_neutral',\n",
            "       'sentiment_positive'],\n",
            "      dtype='object')\n"
          ]
        }
      ]
    },
    {
      "cell_type": "code",
      "source": [
        "import tensorflow as tf\n",
        "from tensorflow.keras.preprocessing.text import Tokenizer\n",
        "from tensorflow.keras.preprocessing.sequence import pad_sequences\n",
        "from tensorflow.keras.layers import Embedding, LSTM, Dense\n",
        "from tensorflow.keras.models import Sequential\n",
        "import numpy as np # Import numpy for array conversion\n",
        "\n",
        "\n",
        "text_data = [\"TGIF is right...I think I broke my toe last night - on my bad foot.\", \" Yay for Block Party!  You`re the BOMB! Blockheads <3 Dave!   Thanks for supporting NKOTB!\"]\n",
        "labels = [1, 0]\n",
        "\n",
        "\n",
        "tokenizer = Tokenizer()\n",
        "tokenizer.fit_on_texts(text_data)\n",
        "sequences = tokenizer.texts_to_sequences(text_data)\n",
        "padded_sequences = pad_sequences(sequences, maxlen=10, padding=\"post\")\n",
        "\n",
        "\n",
        "model = Sequential()\n",
        "model.add(Embedding(input_dim=len(tokenizer.word_index) + 1, output_dim=16, input_length=10))\n",
        "model.add(LSTM(32))\n",
        "model.add(Dense(1, activation=\"sigmoid\"))\n",
        "\n",
        "model.compile(optimizer=\"adam\", loss=\"binary_crossentropy\", metrics=[\"accuracy\"])\n",
        "\n",
        "# Convert labels to a NumPy array\n",
        "labels = np.array(labels)\n",
        "\n",
        "model.fit(padded_sequences, labels, epochs=5, batch_size=1)\n",
        "\n",
        "\n",
        "_, accuracy = model.evaluate(padded_sequences, labels)\n",
        "print(\"Accuracy (LSTM):\", accuracy)"
      ],
      "metadata": {
        "colab": {
          "base_uri": "https://localhost:8080/"
        },
        "id": "y8vZbMO_5WY4",
        "outputId": "e1c7cf9c-f73d-4bc5-d9f2-eae3a1e21159"
      },
      "execution_count": null,
      "outputs": [
        {
          "output_type": "stream",
          "name": "stdout",
          "text": [
            "Epoch 1/5\n",
            "2/2 [==============================] - 3s 14ms/step - loss: 0.6942 - accuracy: 0.5000\n",
            "Epoch 2/5\n",
            "2/2 [==============================] - 0s 8ms/step - loss: 0.6906 - accuracy: 0.5000\n",
            "Epoch 3/5\n",
            "2/2 [==============================] - 0s 8ms/step - loss: 0.6878 - accuracy: 0.5000\n",
            "Epoch 4/5\n",
            "2/2 [==============================] - 0s 7ms/step - loss: 0.6851 - accuracy: 0.5000\n",
            "Epoch 5/5\n",
            "2/2 [==============================] - 0s 8ms/step - loss: 0.6821 - accuracy: 1.0000\n",
            "1/1 [==============================] - 1s 542ms/step - loss: 0.6794 - accuracy: 1.0000\n",
            "Accuracy (LSTM): 1.0\n"
          ]
        }
      ]
    },
    {
      "cell_type": "code",
      "source": [
        "from sklearn.model_selection import RandomizedSearchCV\n",
        "from scipy.stats import uniform\n",
        "\n",
        "\n",
        "param_dist = {\n",
        "    'C': uniform(0.1, 10),\n",
        "    'kernel': ['linear', 'rbf'],\n",
        "    'gamma': uniform(0.1, 10)\n",
        "}\n",
        "svm_model = SVC()\n",
        "random_search = RandomizedSearchCV(svm_model, param_distributions=param_dist, n_iter=10, cv=5)\n",
        "random_search.fit(X_train, y_train)\n",
        "\n",
        "\n",
        "best_params = random_search.best_params_\n"
      ],
      "metadata": {
        "id": "6ZhLm4NP6hAB",
        "colab": {
          "base_uri": "https://localhost:8080/",
          "height": 373
        },
        "outputId": "4a89d567-4be8-4550-e92f-1ec48e543c1b"
      },
      "execution_count": null,
      "outputs": [
        {
          "output_type": "error",
          "ename": "ValueError",
          "evalue": "n_splits=3 cannot be greater than the number of members in each class.",
          "traceback": [
            "\u001b[0;31m---------------------------------------------------------------------------\u001b[0m",
            "\u001b[0;31mValueError\u001b[0m                                Traceback (most recent call last)",
            "\u001b[0;32m<ipython-input-6-b45fd01a9ace>\u001b[0m in \u001b[0;36m<cell line: 15>\u001b[0;34m()\u001b[0m\n\u001b[1;32m     13\u001b[0m \u001b[0;34m\u001b[0m\u001b[0m\n\u001b[1;32m     14\u001b[0m \u001b[0mrandom_search\u001b[0m \u001b[0;34m=\u001b[0m \u001b[0mRandomizedSearchCV\u001b[0m\u001b[0;34m(\u001b[0m\u001b[0msvm_model\u001b[0m\u001b[0;34m,\u001b[0m \u001b[0mparam_distributions\u001b[0m\u001b[0;34m=\u001b[0m\u001b[0mparam_dist\u001b[0m\u001b[0;34m,\u001b[0m \u001b[0mn_iter\u001b[0m\u001b[0;34m=\u001b[0m\u001b[0;36m10\u001b[0m\u001b[0;34m,\u001b[0m \u001b[0mcv\u001b[0m\u001b[0;34m=\u001b[0m\u001b[0;36m3\u001b[0m\u001b[0;34m)\u001b[0m \u001b[0;31m# Change cv to 3 or less\u001b[0m\u001b[0;34m\u001b[0m\u001b[0;34m\u001b[0m\u001b[0m\n\u001b[0;32m---> 15\u001b[0;31m \u001b[0mrandom_search\u001b[0m\u001b[0;34m.\u001b[0m\u001b[0mfit\u001b[0m\u001b[0;34m(\u001b[0m\u001b[0mX_train\u001b[0m\u001b[0;34m,\u001b[0m \u001b[0my_train\u001b[0m\u001b[0;34m)\u001b[0m\u001b[0;34m\u001b[0m\u001b[0;34m\u001b[0m\u001b[0m\n\u001b[0m\u001b[1;32m     16\u001b[0m \u001b[0;34m\u001b[0m\u001b[0m\n\u001b[1;32m     17\u001b[0m \u001b[0;34m\u001b[0m\u001b[0m\n",
            "\u001b[0;32m/usr/local/lib/python3.10/dist-packages/sklearn/model_selection/_search.py\u001b[0m in \u001b[0;36mfit\u001b[0;34m(self, X, y, groups, **fit_params)\u001b[0m\n\u001b[1;32m    872\u001b[0m                 \u001b[0;32mreturn\u001b[0m \u001b[0mresults\u001b[0m\u001b[0;34m\u001b[0m\u001b[0;34m\u001b[0m\u001b[0m\n\u001b[1;32m    873\u001b[0m \u001b[0;34m\u001b[0m\u001b[0m\n\u001b[0;32m--> 874\u001b[0;31m             \u001b[0mself\u001b[0m\u001b[0;34m.\u001b[0m\u001b[0m_run_search\u001b[0m\u001b[0;34m(\u001b[0m\u001b[0mevaluate_candidates\u001b[0m\u001b[0;34m)\u001b[0m\u001b[0;34m\u001b[0m\u001b[0;34m\u001b[0m\u001b[0m\n\u001b[0m\u001b[1;32m    875\u001b[0m \u001b[0;34m\u001b[0m\u001b[0m\n\u001b[1;32m    876\u001b[0m             \u001b[0;31m# multimetric is determined here because in the case of a callable\u001b[0m\u001b[0;34m\u001b[0m\u001b[0;34m\u001b[0m\u001b[0m\n",
            "\u001b[0;32m/usr/local/lib/python3.10/dist-packages/sklearn/model_selection/_search.py\u001b[0m in \u001b[0;36m_run_search\u001b[0;34m(self, evaluate_candidates)\u001b[0m\n\u001b[1;32m   1766\u001b[0m     \u001b[0;32mdef\u001b[0m \u001b[0m_run_search\u001b[0m\u001b[0;34m(\u001b[0m\u001b[0mself\u001b[0m\u001b[0;34m,\u001b[0m \u001b[0mevaluate_candidates\u001b[0m\u001b[0;34m)\u001b[0m\u001b[0;34m:\u001b[0m\u001b[0;34m\u001b[0m\u001b[0;34m\u001b[0m\u001b[0m\n\u001b[1;32m   1767\u001b[0m         \u001b[0;34m\"\"\"Search n_iter candidates from param_distributions\"\"\"\u001b[0m\u001b[0;34m\u001b[0m\u001b[0;34m\u001b[0m\u001b[0m\n\u001b[0;32m-> 1768\u001b[0;31m         evaluate_candidates(\n\u001b[0m\u001b[1;32m   1769\u001b[0m             ParameterSampler(\n\u001b[1;32m   1770\u001b[0m                 \u001b[0mself\u001b[0m\u001b[0;34m.\u001b[0m\u001b[0mparam_distributions\u001b[0m\u001b[0;34m,\u001b[0m \u001b[0mself\u001b[0m\u001b[0;34m.\u001b[0m\u001b[0mn_iter\u001b[0m\u001b[0;34m,\u001b[0m \u001b[0mrandom_state\u001b[0m\u001b[0;34m=\u001b[0m\u001b[0mself\u001b[0m\u001b[0;34m.\u001b[0m\u001b[0mrandom_state\u001b[0m\u001b[0;34m\u001b[0m\u001b[0;34m\u001b[0m\u001b[0m\n",
            "\u001b[0;32m/usr/local/lib/python3.10/dist-packages/sklearn/model_selection/_search.py\u001b[0m in \u001b[0;36mevaluate_candidates\u001b[0;34m(candidate_params, cv, more_results)\u001b[0m\n\u001b[1;32m    831\u001b[0m                         \u001b[0;34m**\u001b[0m\u001b[0mfit_and_score_kwargs\u001b[0m\u001b[0;34m,\u001b[0m\u001b[0;34m\u001b[0m\u001b[0;34m\u001b[0m\u001b[0m\n\u001b[1;32m    832\u001b[0m                     )\n\u001b[0;32m--> 833\u001b[0;31m                     for (cand_idx, parameters), (split_idx, (train, test)) in product(\n\u001b[0m\u001b[1;32m    834\u001b[0m                         \u001b[0menumerate\u001b[0m\u001b[0;34m(\u001b[0m\u001b[0mcandidate_params\u001b[0m\u001b[0;34m)\u001b[0m\u001b[0;34m,\u001b[0m \u001b[0menumerate\u001b[0m\u001b[0;34m(\u001b[0m\u001b[0mcv\u001b[0m\u001b[0;34m.\u001b[0m\u001b[0msplit\u001b[0m\u001b[0;34m(\u001b[0m\u001b[0mX\u001b[0m\u001b[0;34m,\u001b[0m \u001b[0my\u001b[0m\u001b[0;34m,\u001b[0m \u001b[0mgroups\u001b[0m\u001b[0;34m)\u001b[0m\u001b[0;34m)\u001b[0m\u001b[0;34m\u001b[0m\u001b[0;34m\u001b[0m\u001b[0m\n\u001b[1;32m    835\u001b[0m                     )\n",
            "\u001b[0;32m/usr/local/lib/python3.10/dist-packages/sklearn/model_selection/_split.py\u001b[0m in \u001b[0;36msplit\u001b[0;34m(self, X, y, groups)\u001b[0m\n\u001b[1;32m    350\u001b[0m             )\n\u001b[1;32m    351\u001b[0m \u001b[0;34m\u001b[0m\u001b[0m\n\u001b[0;32m--> 352\u001b[0;31m         \u001b[0;32mfor\u001b[0m \u001b[0mtrain\u001b[0m\u001b[0;34m,\u001b[0m \u001b[0mtest\u001b[0m \u001b[0;32min\u001b[0m \u001b[0msuper\u001b[0m\u001b[0;34m(\u001b[0m\u001b[0;34m)\u001b[0m\u001b[0;34m.\u001b[0m\u001b[0msplit\u001b[0m\u001b[0;34m(\u001b[0m\u001b[0mX\u001b[0m\u001b[0;34m,\u001b[0m \u001b[0my\u001b[0m\u001b[0;34m,\u001b[0m \u001b[0mgroups\u001b[0m\u001b[0;34m)\u001b[0m\u001b[0;34m:\u001b[0m\u001b[0;34m\u001b[0m\u001b[0;34m\u001b[0m\u001b[0m\n\u001b[0m\u001b[1;32m    353\u001b[0m             \u001b[0;32myield\u001b[0m \u001b[0mtrain\u001b[0m\u001b[0;34m,\u001b[0m \u001b[0mtest\u001b[0m\u001b[0;34m\u001b[0m\u001b[0;34m\u001b[0m\u001b[0m\n\u001b[1;32m    354\u001b[0m \u001b[0;34m\u001b[0m\u001b[0m\n",
            "\u001b[0;32m/usr/local/lib/python3.10/dist-packages/sklearn/model_selection/_split.py\u001b[0m in \u001b[0;36msplit\u001b[0;34m(self, X, y, groups)\u001b[0m\n\u001b[1;32m     83\u001b[0m         \u001b[0mX\u001b[0m\u001b[0;34m,\u001b[0m \u001b[0my\u001b[0m\u001b[0;34m,\u001b[0m \u001b[0mgroups\u001b[0m \u001b[0;34m=\u001b[0m \u001b[0mindexable\u001b[0m\u001b[0;34m(\u001b[0m\u001b[0mX\u001b[0m\u001b[0;34m,\u001b[0m \u001b[0my\u001b[0m\u001b[0;34m,\u001b[0m \u001b[0mgroups\u001b[0m\u001b[0;34m)\u001b[0m\u001b[0;34m\u001b[0m\u001b[0;34m\u001b[0m\u001b[0m\n\u001b[1;32m     84\u001b[0m         \u001b[0mindices\u001b[0m \u001b[0;34m=\u001b[0m \u001b[0mnp\u001b[0m\u001b[0;34m.\u001b[0m\u001b[0marange\u001b[0m\u001b[0;34m(\u001b[0m\u001b[0m_num_samples\u001b[0m\u001b[0;34m(\u001b[0m\u001b[0mX\u001b[0m\u001b[0;34m)\u001b[0m\u001b[0;34m)\u001b[0m\u001b[0;34m\u001b[0m\u001b[0;34m\u001b[0m\u001b[0m\n\u001b[0;32m---> 85\u001b[0;31m         \u001b[0;32mfor\u001b[0m \u001b[0mtest_index\u001b[0m \u001b[0;32min\u001b[0m \u001b[0mself\u001b[0m\u001b[0;34m.\u001b[0m\u001b[0m_iter_test_masks\u001b[0m\u001b[0;34m(\u001b[0m\u001b[0mX\u001b[0m\u001b[0;34m,\u001b[0m \u001b[0my\u001b[0m\u001b[0;34m,\u001b[0m \u001b[0mgroups\u001b[0m\u001b[0;34m)\u001b[0m\u001b[0;34m:\u001b[0m\u001b[0;34m\u001b[0m\u001b[0;34m\u001b[0m\u001b[0m\n\u001b[0m\u001b[1;32m     86\u001b[0m             \u001b[0mtrain_index\u001b[0m \u001b[0;34m=\u001b[0m \u001b[0mindices\u001b[0m\u001b[0;34m[\u001b[0m\u001b[0mnp\u001b[0m\u001b[0;34m.\u001b[0m\u001b[0mlogical_not\u001b[0m\u001b[0;34m(\u001b[0m\u001b[0mtest_index\u001b[0m\u001b[0;34m)\u001b[0m\u001b[0;34m]\u001b[0m\u001b[0;34m\u001b[0m\u001b[0;34m\u001b[0m\u001b[0m\n\u001b[1;32m     87\u001b[0m             \u001b[0mtest_index\u001b[0m \u001b[0;34m=\u001b[0m \u001b[0mindices\u001b[0m\u001b[0;34m[\u001b[0m\u001b[0mtest_index\u001b[0m\u001b[0;34m]\u001b[0m\u001b[0;34m\u001b[0m\u001b[0;34m\u001b[0m\u001b[0m\n",
            "\u001b[0;32m/usr/local/lib/python3.10/dist-packages/sklearn/model_selection/_split.py\u001b[0m in \u001b[0;36m_iter_test_masks\u001b[0;34m(self, X, y, groups)\u001b[0m\n\u001b[1;32m    731\u001b[0m \u001b[0;34m\u001b[0m\u001b[0m\n\u001b[1;32m    732\u001b[0m     \u001b[0;32mdef\u001b[0m \u001b[0m_iter_test_masks\u001b[0m\u001b[0;34m(\u001b[0m\u001b[0mself\u001b[0m\u001b[0;34m,\u001b[0m \u001b[0mX\u001b[0m\u001b[0;34m,\u001b[0m \u001b[0my\u001b[0m\u001b[0;34m=\u001b[0m\u001b[0;32mNone\u001b[0m\u001b[0;34m,\u001b[0m \u001b[0mgroups\u001b[0m\u001b[0;34m=\u001b[0m\u001b[0;32mNone\u001b[0m\u001b[0;34m)\u001b[0m\u001b[0;34m:\u001b[0m\u001b[0;34m\u001b[0m\u001b[0;34m\u001b[0m\u001b[0m\n\u001b[0;32m--> 733\u001b[0;31m         \u001b[0mtest_folds\u001b[0m \u001b[0;34m=\u001b[0m \u001b[0mself\u001b[0m\u001b[0;34m.\u001b[0m\u001b[0m_make_test_folds\u001b[0m\u001b[0;34m(\u001b[0m\u001b[0mX\u001b[0m\u001b[0;34m,\u001b[0m \u001b[0my\u001b[0m\u001b[0;34m)\u001b[0m\u001b[0;34m\u001b[0m\u001b[0;34m\u001b[0m\u001b[0m\n\u001b[0m\u001b[1;32m    734\u001b[0m         \u001b[0;32mfor\u001b[0m \u001b[0mi\u001b[0m \u001b[0;32min\u001b[0m \u001b[0mrange\u001b[0m\u001b[0;34m(\u001b[0m\u001b[0mself\u001b[0m\u001b[0;34m.\u001b[0m\u001b[0mn_splits\u001b[0m\u001b[0;34m)\u001b[0m\u001b[0;34m:\u001b[0m\u001b[0;34m\u001b[0m\u001b[0;34m\u001b[0m\u001b[0m\n\u001b[1;32m    735\u001b[0m             \u001b[0;32myield\u001b[0m \u001b[0mtest_folds\u001b[0m \u001b[0;34m==\u001b[0m \u001b[0mi\u001b[0m\u001b[0;34m\u001b[0m\u001b[0;34m\u001b[0m\u001b[0m\n",
            "\u001b[0;32m/usr/local/lib/python3.10/dist-packages/sklearn/model_selection/_split.py\u001b[0m in \u001b[0;36m_make_test_folds\u001b[0;34m(self, X, y)\u001b[0m\n\u001b[1;32m    693\u001b[0m         \u001b[0mmin_groups\u001b[0m \u001b[0;34m=\u001b[0m \u001b[0mnp\u001b[0m\u001b[0;34m.\u001b[0m\u001b[0mmin\u001b[0m\u001b[0;34m(\u001b[0m\u001b[0my_counts\u001b[0m\u001b[0;34m)\u001b[0m\u001b[0;34m\u001b[0m\u001b[0;34m\u001b[0m\u001b[0m\n\u001b[1;32m    694\u001b[0m         \u001b[0;32mif\u001b[0m \u001b[0mnp\u001b[0m\u001b[0;34m.\u001b[0m\u001b[0mall\u001b[0m\u001b[0;34m(\u001b[0m\u001b[0mself\u001b[0m\u001b[0;34m.\u001b[0m\u001b[0mn_splits\u001b[0m \u001b[0;34m>\u001b[0m \u001b[0my_counts\u001b[0m\u001b[0;34m)\u001b[0m\u001b[0;34m:\u001b[0m\u001b[0;34m\u001b[0m\u001b[0;34m\u001b[0m\u001b[0m\n\u001b[0;32m--> 695\u001b[0;31m             raise ValueError(\n\u001b[0m\u001b[1;32m    696\u001b[0m                 \u001b[0;34m\"n_splits=%d cannot be greater than the\"\u001b[0m\u001b[0;34m\u001b[0m\u001b[0;34m\u001b[0m\u001b[0m\n\u001b[1;32m    697\u001b[0m                 \u001b[0;34m\" number of members in each class.\"\u001b[0m \u001b[0;34m%\u001b[0m \u001b[0;34m(\u001b[0m\u001b[0mself\u001b[0m\u001b[0;34m.\u001b[0m\u001b[0mn_splits\u001b[0m\u001b[0;34m)\u001b[0m\u001b[0;34m\u001b[0m\u001b[0;34m\u001b[0m\u001b[0m\n",
            "\u001b[0;31mValueError\u001b[0m: n_splits=3 cannot be greater than the number of members in each class."
          ]
        }
      ]
    },
    {
      "cell_type": "code",
      "source": [
        "from sklearn.model_selection import KFold, cross_val_score\n",
        "from sklearn.tree import DecisionTreeClassifier\n",
        "from sklearn import datasets # Import the datasets module\n",
        "X, y = datasets.load_iris(return_X_y=True)\n",
        "clf = DecisionTreeClassifier(random_state=42)\n",
        "k_folds = KFold(n_splits=5)\n",
        "scores = cross_val_score(clf, X, y, cv=k_folds)\n",
        "print(\"Cross Validation Scores:\", scores)\n",
        "print(\"Average CV Score:\", scores.mean())"
      ],
      "metadata": {
        "colab": {
          "base_uri": "https://localhost:8080/"
        },
        "id": "O56EgAUmtnj1",
        "outputId": "bf7e8898-0e5a-43c1-8055-a2879a60c67c"
      },
      "execution_count": null,
      "outputs": [
        {
          "output_type": "stream",
          "name": "stdout",
          "text": [
            "Cross Validation Scores: [1.         1.         0.83333333 0.93333333 0.8       ]\n",
            "Average CV Score: 0.9133333333333333\n"
          ]
        }
      ]
    },
    {
      "cell_type": "code",
      "source": [
        "from sklearn.model_selection import StratifiedKFold\n",
        "sk_folds = StratifiedKFold(n_splits=5)\n",
        "scores = cross_val_score(clf, X, y, cv=sk_folds)\n",
        "print(\"Cross Validation Scores:\", scores)\n",
        "print(\"Average CV Score:\", scores.mean())\n"
      ],
      "metadata": {
        "colab": {
          "base_uri": "https://localhost:8080/"
        },
        "id": "syYEiYhHvhBk",
        "outputId": "b92f6cde-02f7-41d7-ed28-2881b74c39e7"
      },
      "execution_count": null,
      "outputs": [
        {
          "output_type": "stream",
          "name": "stdout",
          "text": [
            "Cross Validation Scores: [0.96666667 0.96666667 0.9        0.93333333 1.        ]\n",
            "Average CV Score: 0.9533333333333334\n"
          ]
        }
      ]
    },
    {
      "cell_type": "code",
      "source": [
        "!pip install lime\n",
        "from lime.lime_tabular import LimeTabularExplainer\n",
        "import numpy as np\n",
        "\n",
        "# Convert X_train to a NumPy array\n",
        "X_train_array = np.array(X_train)\n",
        "\n",
        "# Define feature names (replace with actual names)\n",
        "feature_names = [\"Population -2020\", \"Land Area (Km²)\"]\n",
        "\n",
        "explainer = LimeTabularExplainer(training_data=X_train_array,\n",
        "                                 feature_names=feature_names,\n",
        "                                 class_names=['bad', 'good'],\n",
        "                                 mode='classification')"
      ],
      "metadata": {
        "colab": {
          "base_uri": "https://localhost:8080/"
        },
        "id": "_bwjxjkowBe4",
        "outputId": "87ec31eb-aefc-4884-9856-e59f634a8481"
      },
      "execution_count": null,
      "outputs": [
        {
          "output_type": "stream",
          "name": "stdout",
          "text": [
            "Requirement already satisfied: lime in /usr/local/lib/python3.10/dist-packages (0.2.0.1)\n",
            "Requirement already satisfied: matplotlib in /usr/local/lib/python3.10/dist-packages (from lime) (3.7.1)\n",
            "Requirement already satisfied: numpy in /usr/local/lib/python3.10/dist-packages (from lime) (1.25.2)\n",
            "Requirement already satisfied: scipy in /usr/local/lib/python3.10/dist-packages (from lime) (1.11.4)\n",
            "Requirement already satisfied: tqdm in /usr/local/lib/python3.10/dist-packages (from lime) (4.66.4)\n",
            "Requirement already satisfied: scikit-learn>=0.18 in /usr/local/lib/python3.10/dist-packages (from lime) (1.2.2)\n",
            "Requirement already satisfied: scikit-image>=0.12 in /usr/local/lib/python3.10/dist-packages (from lime) (0.19.3)\n",
            "Requirement already satisfied: networkx>=2.2 in /usr/local/lib/python3.10/dist-packages (from scikit-image>=0.12->lime) (3.3)\n",
            "Requirement already satisfied: pillow!=7.1.0,!=7.1.1,!=8.3.0,>=6.1.0 in /usr/local/lib/python3.10/dist-packages (from scikit-image>=0.12->lime) (9.4.0)\n",
            "Requirement already satisfied: imageio>=2.4.1 in /usr/local/lib/python3.10/dist-packages (from scikit-image>=0.12->lime) (2.31.6)\n",
            "Requirement already satisfied: tifffile>=2019.7.26 in /usr/local/lib/python3.10/dist-packages (from scikit-image>=0.12->lime) (2024.5.22)\n",
            "Requirement already satisfied: PyWavelets>=1.1.1 in /usr/local/lib/python3.10/dist-packages (from scikit-image>=0.12->lime) (1.6.0)\n",
            "Requirement already satisfied: packaging>=20.0 in /usr/local/lib/python3.10/dist-packages (from scikit-image>=0.12->lime) (24.1)\n",
            "Requirement already satisfied: joblib>=1.1.1 in /usr/local/lib/python3.10/dist-packages (from scikit-learn>=0.18->lime) (1.4.2)\n",
            "Requirement already satisfied: threadpoolctl>=2.0.0 in /usr/local/lib/python3.10/dist-packages (from scikit-learn>=0.18->lime) (3.5.0)\n",
            "Requirement already satisfied: contourpy>=1.0.1 in /usr/local/lib/python3.10/dist-packages (from matplotlib->lime) (1.2.1)\n",
            "Requirement already satisfied: cycler>=0.10 in /usr/local/lib/python3.10/dist-packages (from matplotlib->lime) (0.12.1)\n",
            "Requirement already satisfied: fonttools>=4.22.0 in /usr/local/lib/python3.10/dist-packages (from matplotlib->lime) (4.53.0)\n",
            "Requirement already satisfied: kiwisolver>=1.0.1 in /usr/local/lib/python3.10/dist-packages (from matplotlib->lime) (1.4.5)\n",
            "Requirement already satisfied: pyparsing>=2.3.1 in /usr/local/lib/python3.10/dist-packages (from matplotlib->lime) (3.1.2)\n",
            "Requirement already satisfied: python-dateutil>=2.7 in /usr/local/lib/python3.10/dist-packages (from matplotlib->lime) (2.8.2)\n",
            "Requirement already satisfied: six>=1.5 in /usr/local/lib/python3.10/dist-packages (from python-dateutil>=2.7->matplotlib->lime) (1.16.0)\n"
          ]
        }
      ]
    },
    {
      "cell_type": "code",
      "source": [
        "from sklearn.ensemble import RandomForestClassifier\n",
        "\n",
        "# Assuming you have X_train and y_train\n",
        "model = RandomForestClassifier(random_state=42)\n",
        "model.fit(X_train, y_train)\n"
      ],
      "metadata": {
        "colab": {
          "base_uri": "https://localhost:8080/",
          "height": 75
        },
        "id": "ryU8eG9RwZF_",
        "outputId": "37a27fac-7c16-4fb5-fb8a-77f4332fc3b3"
      },
      "execution_count": null,
      "outputs": [
        {
          "output_type": "execute_result",
          "data": {
            "text/plain": [
              "RandomForestClassifier(random_state=42)"
            ],
            "text/html": [
              "<style>#sk-container-id-1 {color: black;background-color: white;}#sk-container-id-1 pre{padding: 0;}#sk-container-id-1 div.sk-toggleable {background-color: white;}#sk-container-id-1 label.sk-toggleable__label {cursor: pointer;display: block;width: 100%;margin-bottom: 0;padding: 0.3em;box-sizing: border-box;text-align: center;}#sk-container-id-1 label.sk-toggleable__label-arrow:before {content: \"▸\";float: left;margin-right: 0.25em;color: #696969;}#sk-container-id-1 label.sk-toggleable__label-arrow:hover:before {color: black;}#sk-container-id-1 div.sk-estimator:hover label.sk-toggleable__label-arrow:before {color: black;}#sk-container-id-1 div.sk-toggleable__content {max-height: 0;max-width: 0;overflow: hidden;text-align: left;background-color: #f0f8ff;}#sk-container-id-1 div.sk-toggleable__content pre {margin: 0.2em;color: black;border-radius: 0.25em;background-color: #f0f8ff;}#sk-container-id-1 input.sk-toggleable__control:checked~div.sk-toggleable__content {max-height: 200px;max-width: 100%;overflow: auto;}#sk-container-id-1 input.sk-toggleable__control:checked~label.sk-toggleable__label-arrow:before {content: \"▾\";}#sk-container-id-1 div.sk-estimator input.sk-toggleable__control:checked~label.sk-toggleable__label {background-color: #d4ebff;}#sk-container-id-1 div.sk-label input.sk-toggleable__control:checked~label.sk-toggleable__label {background-color: #d4ebff;}#sk-container-id-1 input.sk-hidden--visually {border: 0;clip: rect(1px 1px 1px 1px);clip: rect(1px, 1px, 1px, 1px);height: 1px;margin: -1px;overflow: hidden;padding: 0;position: absolute;width: 1px;}#sk-container-id-1 div.sk-estimator {font-family: monospace;background-color: #f0f8ff;border: 1px dotted black;border-radius: 0.25em;box-sizing: border-box;margin-bottom: 0.5em;}#sk-container-id-1 div.sk-estimator:hover {background-color: #d4ebff;}#sk-container-id-1 div.sk-parallel-item::after {content: \"\";width: 100%;border-bottom: 1px solid gray;flex-grow: 1;}#sk-container-id-1 div.sk-label:hover label.sk-toggleable__label {background-color: #d4ebff;}#sk-container-id-1 div.sk-serial::before {content: \"\";position: absolute;border-left: 1px solid gray;box-sizing: border-box;top: 0;bottom: 0;left: 50%;z-index: 0;}#sk-container-id-1 div.sk-serial {display: flex;flex-direction: column;align-items: center;background-color: white;padding-right: 0.2em;padding-left: 0.2em;position: relative;}#sk-container-id-1 div.sk-item {position: relative;z-index: 1;}#sk-container-id-1 div.sk-parallel {display: flex;align-items: stretch;justify-content: center;background-color: white;position: relative;}#sk-container-id-1 div.sk-item::before, #sk-container-id-1 div.sk-parallel-item::before {content: \"\";position: absolute;border-left: 1px solid gray;box-sizing: border-box;top: 0;bottom: 0;left: 50%;z-index: -1;}#sk-container-id-1 div.sk-parallel-item {display: flex;flex-direction: column;z-index: 1;position: relative;background-color: white;}#sk-container-id-1 div.sk-parallel-item:first-child::after {align-self: flex-end;width: 50%;}#sk-container-id-1 div.sk-parallel-item:last-child::after {align-self: flex-start;width: 50%;}#sk-container-id-1 div.sk-parallel-item:only-child::after {width: 0;}#sk-container-id-1 div.sk-dashed-wrapped {border: 1px dashed gray;margin: 0 0.4em 0.5em 0.4em;box-sizing: border-box;padding-bottom: 0.4em;background-color: white;}#sk-container-id-1 div.sk-label label {font-family: monospace;font-weight: bold;display: inline-block;line-height: 1.2em;}#sk-container-id-1 div.sk-label-container {text-align: center;}#sk-container-id-1 div.sk-container {/* jupyter's `normalize.less` sets `[hidden] { display: none; }` but bootstrap.min.css set `[hidden] { display: none !important; }` so we also need the `!important` here to be able to override the default hidden behavior on the sphinx rendered scikit-learn.org. See: https://github.com/scikit-learn/scikit-learn/issues/21755 */display: inline-block !important;position: relative;}#sk-container-id-1 div.sk-text-repr-fallback {display: none;}</style><div id=\"sk-container-id-1\" class=\"sk-top-container\"><div class=\"sk-text-repr-fallback\"><pre>RandomForestClassifier(random_state=42)</pre><b>In a Jupyter environment, please rerun this cell to show the HTML representation or trust the notebook. <br />On GitHub, the HTML representation is unable to render, please try loading this page with nbviewer.org.</b></div><div class=\"sk-container\" hidden><div class=\"sk-item\"><div class=\"sk-estimator sk-toggleable\"><input class=\"sk-toggleable__control sk-hidden--visually\" id=\"sk-estimator-id-1\" type=\"checkbox\" checked><label for=\"sk-estimator-id-1\" class=\"sk-toggleable__label sk-toggleable__label-arrow\">RandomForestClassifier</label><div class=\"sk-toggleable__content\"><pre>RandomForestClassifier(random_state=42)</pre></div></div></div></div></div>"
            ]
          },
          "metadata": {},
          "execution_count": 20
        }
      ]
    },
    {
      "cell_type": "code",
      "source": [
        "import matplotlib.pyplot as plt\n",
        "\n",
        "# Get feature importances\n",
        "importances = model.feature_importances_\n",
        "\n",
        "# If you know the names of your features, replace this list\n",
        "feature_names = [\"Age of User\", \"Country\", \"Population -2020\", \"Land Area (Km²)\"]\n",
        "\n",
        "# Plot a bar chart\n",
        "plt.barh(range(len(importances)), importances, color='b', align='center')\n",
        "plt.yticks(range(len(feature_names)), feature_names)  # Use feature names for y-axis labels\n",
        "plt.title('Feature Importances')\n",
        "plt.show()"
      ],
      "metadata": {
        "colab": {
          "base_uri": "https://localhost:8080/",
          "height": 452
        },
        "id": "LhReh8XpyGke",
        "outputId": "17dfeb2d-ae92-497f-f756-fe176154d051"
      },
      "execution_count": null,
      "outputs": [
        {
          "output_type": "display_data",
          "data": {
            "text/plain": [
              "<Figure size 640x480 with 1 Axes>"
            ],
            "image/png": "[encoded data removed]"
          },
          "metadata": {}
        }
      ]
    },
    {
      "cell_type": "code",
      "source": [
        "from lime.lime_tabular import LimeTabularExplainer\n",
        "import numpy as np\n",
        "\n",
        "\n",
        "X_train_array = np.array(X_train)\n",
        "\n",
        "feature_names = [\"Age of User\", \"Country\", \"Population -2020\", \"Land Area (Km²)\"]\n",
        "\n",
        "categorical_features = [] # For example [0, 1] if the first two features are categorical\n",
        "\n",
        "explainer = LimeTabularExplainer(training_data=X_train_array,\n",
        "                                 feature_names=feature_names,\n",
        "                                 class_names=['bad', 'good'],\n",
        "                                 categorical_features=categorical_features, # Add this line\n",
        "                                 mode='classification')"
      ],
      "metadata": {
        "id": "DaSQQn4Ky4O8"
      },
      "execution_count": null,
      "outputs": []
    },
    {
      "cell_type": "code",
      "source": [
        "import numpy as np\n",
        "from sklearn import metrics\n",
        "from sklearn.linear_model import LogisticRegression\n",
        "from sklearn.datasets import make_classification\n",
        "import matplotlib.pyplot as plt\n",
        "\n",
        "X, y = make_classification(n_samples=1000, n_features=4, n_informative=3, n_redundant=1, random_state=0)\n",
        "X_train, X_test, y_train, y_test = train_test_split(X, y, test_size=0.3, random_state=0)\n",
        "\n",
        "classifier = LogisticRegression()\n",
        "classifier.fit(X_train, y_train)\n",
        "\n",
        "y_score = classifier.predict_proba(X_test)[:, 1]\n",
        "\n",
        "confusion_matrix = metrics.confusion_matrix(y_test, y_score > 0.5)\n",
        "\n",
        "cm_display = metrics.ConfusionMatrixDisplay(confusion_matrix=confusion_matrix, display_labels=[0, 1])\n",
        "cm_display.plot()\n",
        "plt.show()\n"
      ],
      "metadata": {
        "colab": {
          "base_uri": "https://localhost:8080/",
          "height": 449
        },
        "id": "2g0TEZ-J2auR",
        "outputId": "a5630f0f-937a-4fd6-b8cc-9708d02cab8f"
      },
      "execution_count": null,
      "outputs": [
        {
          "output_type": "display_data",
          "data": {
            "text/plain": [
              "<Figure size 640x480 with 2 Axes>"
            ],
            "image/png": "[encoded data removed]"
          },
          "metadata": {}
        }
      ]
    },
    {
      "cell_type": "code",
      "source": [
        "precision, recall, _ = metrics.precision_recall_curve(y_test, y_score)\n",
        "plt.plot(recall, precision, color='purple')\n",
        "plt.title('Precision-Recall Curve')\n",
        "plt.ylabel('Precision')\n",
        "plt.xlabel('Recall')\n",
        "plt.show()\n"
      ],
      "metadata": {
        "colab": {
          "base_uri": "https://localhost:8080/",
          "height": 472
        },
        "id": "2xE3rvWKzlFL",
        "outputId": "25007c7d-4dc5-45d3-ae2d-9093e63cf5df"
      },
      "execution_count": null,
      "outputs": [
        {
          "output_type": "display_data",
          "data": {
            "text/plain": [
              "<Figure size 640x480 with 1 Axes>"
            ],
            "image/png": "[encoded data removed]"
          },
          "metadata": {}
        }
      ]
    },
    {
      "cell_type": "code",
      "source": [
        "fpr, tpr, _ = metrics.roc_curve(y_test, y_score)\n",
        "roc_auc = metrics.roc_auc_score(y_test, y_score)\n",
        "print(\"ROC-AUC Score:\", roc_auc)\n"
      ],
      "metadata": {
        "colab": {
          "base_uri": "https://localhost:8080/"
        },
        "id": "HrEMi2db3KUJ",
        "outputId": "6512237c-6027-4d14-ef48-247e9884229d"
      },
      "execution_count": null,
      "outputs": [
        {
          "output_type": "stream",
          "name": "stdout",
          "text": [
            "ROC-AUC Score: 0.7901618929016189\n"
          ]
        }
      ]
    },
    {
      "cell_type": "code",
      "source": [],
      "metadata": {
        "id": "OcHceEQa3OuM"
      },
      "execution_count": null,
      "outputs": []
    }
  ]
}